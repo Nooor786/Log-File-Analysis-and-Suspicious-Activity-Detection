{
 "cells": [
  {
   "cell_type": "code",
   "execution_count": 1,
   "id": "07c55817",
   "metadata": {},
   "outputs": [
    {
     "name": "stdout",
     "output_type": "stream",
     "text": [
      "Log file successfully read.\n"
     ]
    }
   ],
   "source": [
    "import re\n",
    "\n",
    "# Function to read the log file\n",
    "def read_log_file(file_path):\n",
    "    try:\n",
    "        with open(file_path, 'r') as file:\n",
    "            logs = file.readlines()\n",
    "        return logs\n",
    "    except FileNotFoundError:\n",
    "        print(f\"Error: The file at {file_path} was not found.\")\n",
    "        return []\n",
    "    except Exception as e:\n",
    "        print(f\"Error reading file: {e}\")\n",
    "        return []\n",
    "\n",
    "# Path to the sample log file (Update the path if needed)\n",
    "log_file = '/Users/noorshaik/Documents/sample.log'\n",
    "logs = read_log_file(log_file)\n",
    "\n",
    "# Check if logs were read\n",
    "if logs:\n",
    "    print(\"Log file successfully read.\")\n",
    "else:\n",
    "    print(\"Log file not found or could not be read.\")\n"
   ]
  },
  {
   "cell_type": "code",
   "execution_count": 2,
   "id": "0343a7ba",
   "metadata": {},
   "outputs": [
    {
     "name": "stdout",
     "output_type": "stream",
     "text": [
      "\n",
      "IP Address           Request Count\n",
      "203.0.113.5         8\n",
      "198.51.100.23       8\n",
      "192.168.1.1         7\n",
      "10.0.0.2            6\n",
      "192.168.1.100       5\n"
     ]
    }
   ],
   "source": [
    "from collections import Counter\n",
    "\n",
    "# Function to count requests per IP address\n",
    "def count_requests_per_ip(logs):\n",
    "    ip_pattern = r'^(\\d+\\.\\d+\\.\\d+\\.\\d+)'  # Regex to match IP addresses\n",
    "    ip_counts = Counter(re.match(ip_pattern, log).group(1) for log in logs if re.match(ip_pattern, log))\n",
    "    return ip_counts\n",
    "\n",
    "# Get IP counts\n",
    "ip_counts = count_requests_per_ip(logs)\n",
    "\n",
    "# Display the results\n",
    "print(\"\\nIP Address           Request Count\")\n",
    "for ip, count in ip_counts.most_common():\n",
    "    print(f\"{ip:20}{count}\")\n"
   ]
  },
  {
   "cell_type": "code",
   "execution_count": 3,
   "id": "9d22d086",
   "metadata": {},
   "outputs": [
    {
     "name": "stdout",
     "output_type": "stream",
     "text": [
      "\n",
      "Most Frequently Accessed Endpoint: /login (Accessed 13 times)\n"
     ]
    }
   ],
   "source": [
    "# Function to identify the most frequently accessed endpoint\n",
    "def most_frequent_endpoint(logs):\n",
    "    endpoint_pattern = r'\\\"[A-Z]+\\s(/[\\w./-]*)\\s'\n",
    "    endpoints = [re.search(endpoint_pattern, log).group(1) for log in logs if re.search(endpoint_pattern, log)]\n",
    "    endpoint_counts = Counter(endpoints)\n",
    "    most_accessed = endpoint_counts.most_common(1)[0]\n",
    "    return most_accessed\n",
    "\n",
    "# Get the most accessed endpoint\n",
    "most_accessed_endpoint, access_count = most_frequent_endpoint(logs)\n",
    "\n",
    "# Display the result\n",
    "print(f\"\\nMost Frequently Accessed Endpoint: {most_accessed_endpoint} (Accessed {access_count} times)\")\n"
   ]
  },
  {
   "cell_type": "code",
   "execution_count": 4,
   "id": "926c7022",
   "metadata": {},
   "outputs": [
    {
     "name": "stdout",
     "output_type": "stream",
     "text": [
      "\n",
      "Suspicious Activity Detected:\n",
      "IP Address           Failed Login Attempts\n"
     ]
    }
   ],
   "source": [
    "# Function to detect suspicious activity (failed login attempts)\n",
    "def detect_suspicious_activity(logs, threshold=10):\n",
    "    suspicious_pattern = r'\\\"POST /login.*\\\" 401'\n",
    "    suspicious_ips = Counter(re.match(r'^(\\d+\\.\\d+\\.\\d+\\.\\d+)', log).group(1)\n",
    "                             for log in logs if re.search(suspicious_pattern, log))\n",
    "    flagged_ips = {ip: count for ip, count in suspicious_ips.items() if count > threshold}\n",
    "    return flagged_ips\n",
    "\n",
    "# Get suspicious activity (failed login attempts)\n",
    "suspicious_ips = detect_suspicious_activity(logs)\n",
    "\n",
    "# Display the result\n",
    "print(\"\\nSuspicious Activity Detected:\")\n",
    "print(\"IP Address           Failed Login Attempts\")\n",
    "for ip, count in suspicious_ips.items():\n",
    "    print(f\"{ip:20}{count}\")\n"
   ]
  },
  {
   "cell_type": "code",
   "execution_count": 5,
   "id": "1f57216d",
   "metadata": {},
   "outputs": [
    {
     "name": "stdout",
     "output_type": "stream",
     "text": [
      "\n",
      "Results saved to /Users/noorshaik/Documents/final_log_analysis_results.csv\n"
     ]
    }
   ],
   "source": [
    "import csv\n",
    "\n",
    "# Function to save results to CSV\n",
    "def save_to_csv(ip_counts, most_accessed, suspicious_ips, file_name='log_analysis_results.csv'):\n",
    "    try:\n",
    "        with open(file_name, 'w', newline='') as csvfile:\n",
    "            writer = csv.writer(csvfile)\n",
    "\n",
    "            # Write Requests per IP\n",
    "            writer.writerow(['Requests per IP'])\n",
    "            writer.writerow(['IP Address', 'Request Count'])\n",
    "            writer.writerows(ip_counts.items())\n",
    "\n",
    "            # Write Most Accessed Endpoint\n",
    "            writer.writerow([])\n",
    "            writer.writerow(['Most Accessed Endpoint'])\n",
    "            writer.writerow(['Endpoint', 'Access Count'])\n",
    "            writer.writerow([most_accessed[0], most_accessed[1]])\n",
    "\n",
    "            # Write Suspicious Activity\n",
    "            writer.writerow([])\n",
    "            writer.writerow(['Suspicious Activity'])\n",
    "            writer.writerow(['IP Address', 'Failed Login Count'])\n",
    "            writer.writerows(suspicious_ips.items())\n",
    "\n",
    "        print(f\"\\nResults saved to {file_name}\")\n",
    "    except Exception as e:\n",
    "        print(f\"Error saving results: {e}\")\n",
    "\n",
    "# Save the results to a CSV file\n",
    "csv_file_path = '/Users/noorshaik/Documents/final_log_analysis_results.csv'\n",
    "save_to_csv(ip_counts, \n",
    "            (most_accessed_endpoint, access_count), \n",
    "            suspicious_ips, \n",
    "            file_name=csv_file_path)\n"
   ]
  },
  {
   "cell_type": "code",
   "execution_count": null,
   "id": "d644962a",
   "metadata": {},
   "outputs": [],
   "source": []
  }
 ],
 "metadata": {
  "kernelspec": {
   "display_name": "Python 3 (ipykernel)",
   "language": "python",
   "name": "python3"
  },
  "language_info": {
   "codemirror_mode": {
    "name": "ipython",
    "version": 3
   },
   "file_extension": ".py",
   "mimetype": "text/x-python",
   "name": "python",
   "nbconvert_exporter": "python",
   "pygments_lexer": "ipython3",
   "version": "3.11.5"
  }
 },
 "nbformat": 4,
 "nbformat_minor": 5
}
